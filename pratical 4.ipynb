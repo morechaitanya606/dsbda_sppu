{
 "cells": [
  {
   "cell_type": "raw",
   "id": "5aabe567",
   "metadata": {},
   "source": [
    "Name:Chaitanya more\n",
    "\n",
    "Roll_no:- 01 \"B\"\n",
    "\n",
    "Batch :-TB1-B2"
   ]
  },
  {
   "cell_type": "markdown",
   "id": "067563db",
   "metadata": {},
   "source": [
    "#### Pratical no : 4"
   ]
  },
  {
   "cell_type": "raw",
   "id": "4e41505a",
   "metadata": {},
   "source": [
    " Create\ta\tLinear\tRegression\tModel\tusing\tPython/R\tto\tpredict\thome\tprices\tusing\tBoston\tHousing\tDataset\n",
    " (https://www.kaggle.com/c/boston-housing).\tThe\tBoston\tHousing\tdataset\tcontains\tinformation\tabout\tvarious\thouses\tin\tBoston\tthrough\n",
    " different\tparameters.\tThere\tare\t506\tsamples\tand\t14\tfeature\tvariables\tin\tthis\tdataset.\n",
    " The\tobjective\tis\tto\tpredict\tthe\tvalue\tof\tprices\tof\tthe\thouse\tusing\tthe\tgiven\tfeatures"
   ]
  }
 ],
 "metadata": {
  "kernelspec": {
   "display_name": "Python 3 (ipykernel)",
   "language": "python",
   "name": "python3"
  },
  "language_info": {
   "codemirror_mode": {
    "name": "ipython",
    "version": 3
   },
   "file_extension": ".py",
   "mimetype": "text/x-python",
   "name": "python",
   "nbconvert_exporter": "python",
   "pygments_lexer": "ipython3",
   "version": "3.11.5"
  }
 },
 "nbformat": 4,
 "nbformat_minor": 5
}
